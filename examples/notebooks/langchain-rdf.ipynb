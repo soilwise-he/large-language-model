{
 "cells": [
  {
   "cell_type": "code",
   "outputs": [
    {
     "data": {
      "text/plain": "True"
     },
     "execution_count": 1,
     "metadata": {},
     "output_type": "execute_result"
    }
   ],
   "source": [
    "# load the environment variables\n",
    "from dotenv import load_dotenv\n",
    "from pathlib import Path\n",
    "\n",
    "# add an environment file with the secrets if needed\n",
    "# and make sure to exclude it from git!!\n",
    "env_path = Path('.') / 'env-secrets.txt'\n",
    "load_dotenv(dotenv_path=env_path)"
   ],
   "metadata": {
    "collapsed": false,
    "ExecuteTime": {
     "end_time": "2024-03-28T13:14:26.196832Z",
     "start_time": "2024-03-28T13:14:26.188961Z"
    }
   },
   "id": "9ef9546ff1ed42de",
   "execution_count": 1
  },
  {
   "cell_type": "code",
   "outputs": [],
   "source": [
    "import os\n",
    "openai_api_key = os.getenv(\"OPENAI_SOILWISE_API_KEY\")"
   ],
   "metadata": {
    "collapsed": false,
    "ExecuteTime": {
     "end_time": "2024-03-28T13:14:27.521461Z",
     "start_time": "2024-03-28T13:14:27.519798Z"
    }
   },
   "id": "eeb772eea5a0eb83",
   "execution_count": 2
  },
  {
   "cell_type": "code",
   "execution_count": 3,
   "id": "initial_id",
   "metadata": {
    "collapsed": true,
    "ExecuteTime": {
     "end_time": "2024-03-28T13:14:29.078984Z",
     "start_time": "2024-03-28T13:14:28.665483Z"
    }
   },
   "outputs": [],
   "source": [
    "from langchain.chains import GraphSparqlQAChain\n",
    "from langchain_community.graphs import RdfGraph\n",
    "from langchain_openai import ChatOpenAI"
   ]
  },
  {
   "cell_type": "code",
   "outputs": [],
   "source": [
    "g = RdfGraph(\n",
    "    source_file=\"http://www.w3.org/People/Berners-Lee/card\",\n",
    "    standard=\"rdf\",\n",
    "    local_copy=\"test.ttl\",\n",
    ")"
   ],
   "metadata": {
    "collapsed": false,
    "ExecuteTime": {
     "end_time": "2024-03-28T13:45:26.219820Z",
     "start_time": "2024-03-28T13:45:25.900960Z"
    }
   },
   "id": "cddfdaeb5d04445b",
   "execution_count": 29
  },
  {
   "cell_type": "code",
   "outputs": [
    {
     "name": "stdout",
     "output_type": "stream",
     "text": [
      "Timothy Berners-Lee\n"
     ]
    }
   ],
   "source": [
    "# from rdflib import Graph\n",
    "\n",
    "# Create a Graph, pare in Internet data\n",
    "# g = Graph().parse(\"http://www.w3.org/People/Berners-Lee/card\")\n",
    "\n",
    "# Query the data in g using SPARQL\n",
    "# This query returns the 'name' of all ``foaf:Person`` instances\n",
    "q = \"\"\"\n",
    "    PREFIX foaf: <http://xmlns.com/foaf/0.1/>\n",
    "\n",
    "    SELECT ?name\n",
    "    WHERE {\n",
    "        ?p rdf:type foaf:Person .\n",
    "\n",
    "        ?p foaf:name ?name .\n",
    "    }\n",
    "\"\"\"\n",
    "\n",
    "# Apply the query to the graph and iterate through results\n",
    "for r in g.query(q):\n",
    "    print(r[\"name\"])"
   ],
   "metadata": {
    "collapsed": false,
    "ExecuteTime": {
     "end_time": "2024-03-28T13:45:27.702071Z",
     "start_time": "2024-03-28T13:45:27.695115Z"
    }
   },
   "id": "4b3782841d9224ce",
   "execution_count": 30
  },
  {
   "cell_type": "code",
   "outputs": [
    {
     "name": "stdout",
     "output_type": "stream",
     "text": [
      "In the following, each IRI is followed by the local name and optionally its description in parentheses. \n",
      "The RDF graph supports the following node types:\n",
      "<http://xmlns.com/foaf/0.1/PersonalProfileDocument> (PersonalProfileDocument, None), <http://www.w3.org/ns/auth/cert#RSAPublicKey> (RSAPublicKey, None), <http://www.w3.org/2000/10/swap/pim/contact#Male> (Male, None), <http://xmlns.com/foaf/0.1/Person> (Person, None), <http://www.w3.org/2006/vcard/ns#Work> (Work, None)\n",
      "The RDF graph supports the following relationships:\n",
      "<http://www.w3.org/2003/01/geo/wgs84_pos#lat> (lat, None), <http://xmlns.com/foaf/0.1/openid> (openid, None), <http://purl.org/dc/elements/1.1/title> (title, None), <http://www.w3.org/ns/solid/terms#profileBackgroundColor> (profileBackgroundColor, None), <http://xmlns.com/foaf/0.1/homepage> (homepage, None), <http://www.w3.org/2000/10/swap/pim/contact#assistant> (assistant, None), <http://www.w3.org/ns/solid/terms#publicTypeIndex> (publicTypeIndex, None), <http://www.w3.org/ns/auth/cert#modulus> (modulus, None), <http://xmlns.com/foaf/0.1/family_name> (family_name, None), <http://usefulinc.com/ns/doap#developer> (developer, None), <http://www.w3.org/1999/02/22-rdf-syntax-ns#type> (type, None), <http://xmlns.com/foaf/0.1/maker> (maker, None), <http://xmlns.com/foaf/0.1/name> (name, None), <http://schema.org/owns> (owns, None), <http://www.w3.org/2000/01/rdf-schema#label> (label, None), <http://creativecommons.org/ns#license> (license, None), <http://www.w3.org/ns/solid/terms#oidcIssuer> (oidcIssuer, None), <http://www.w3.org/2000/10/swap/pim/contact#city> (city, None), <http://www.w3.org/ns/ldp#inbox> (inbox, None), <http://www.w3.org/2000/10/swap/pim/contact#participant> (participant, None), <http://xmlns.com/foaf/0.1/workplaceHomepage> (workplaceHomepage, None), <http://rdfs.org/sioc/ns#avatar> (avatar, None), <http://www.w3.org/ns/pim/space#storage> (storage, None), <http://www.w3.org/ns/solid/terms#profileHighlightColor> (profileHighlightColor, None), <http://xmlns.com/foaf/0.1/account> (account, None), <http://www.w3.org/ns/auth/cert#exponent> (exponent, None), <http://www.w3.org/ns/solid/terms#editableProfile> (editableProfile, None), <http://www.w3.org/2003/01/geo/wgs84_pos#long> (long, None), <http://www.w3.org/2000/10/swap/pim/contact#office> (office, None), <http://www.w3.org/2000/01/rdf-schema#seeAlso> (seeAlso, None), <http://www.w3.org/2006/vcard/ns#fn> (fn, None), <http://www.w3.org/2000/10/swap/pim/contact#homePage> (homePage, None), <http://xmlns.com/foaf/0.1/img> (img, None), <http://xmlns.com/foaf/0.1/givenname> (givenname, None), <http://www.w3.org/2006/vcard/ns#postal-code> (postal-code, None), <http://www.w3.org/2000/10/swap/pim/contact#country> (country, None), <http://xmlns.com/foaf/0.1/primaryTopic> (primaryTopic, None), <http://www.w3.org/2000/10/swap/pim/contact#street> (street, None), <http://www.w3.org/2000/10/swap/pim/contact#publicHomePage> (publicHomePage, None), <http://xmlns.com/foaf/0.1/based_near> (based_near, None), <http://www.w3.org/2000/10/swap/pim/contact#preferredURI> (preferredURI, None), <http://www.w3.org/2003/01/geo/wgs84_pos#location> (location, None), <http://www.w3.org/ns/auth/cert#key> (key, None), <http://xmlns.com/foaf/0.1/title> (title, None), <http://xmlns.com/foaf/0.1/weblog> (weblog, None), <http://xmlns.com/foaf/0.1/nick> (nick, None), <http://www.w3.org/2006/vcard/ns#hasAddress> (hasAddress, None), <http://www.w3.org/ns/pim/space#preferencesFile> (preferencesFile, None), <http://www.w3.org/2000/10/swap/pim/contact#street2> (street2, None), <http://purl.org/dc/terms/title> (title, None), <http://xmlns.com/foaf/0.1/mbox> (mbox, None), <http://xmlns.com/foaf/0.1/mbox_sha1sum> (mbox_sha1sum, None), <http://xmlns.com/foaf/0.1/member> (member, None), <http://www.w3.org/2006/vcard/ns#locality> (locality, None), <http://www.w3.org/2000/10/swap/pim/contact#address> (address, None), <http://www.w3.org/2006/vcard/ns#region> (region, None), <http://www.w3.org/2006/vcard/ns#street-address> (street-address, None), <http://www.w3.org/2000/10/swap/pim/contact#postalCode> (postalCode, None)\n"
     ]
    }
   ],
   "source": [
    "print(g.get_schema)"
   ],
   "metadata": {
    "collapsed": false,
    "ExecuteTime": {
     "end_time": "2024-03-28T13:45:30.071679Z",
     "start_time": "2024-03-28T13:45:30.068782Z"
    }
   },
   "id": "583f83c264e0219c",
   "execution_count": 31
  },
  {
   "cell_type": "code",
   "outputs": [],
   "source": [
    "llm = ChatOpenAI(model=\"gpt-3.5-turbo\", temperature=0, openai_api_key=openai_api_key)\n",
    "chain = GraphSparqlQAChain.from_llm(llm=llm, graph=g, return_sparql_query=False, verbose=True)"
   ],
   "metadata": {
    "collapsed": false,
    "ExecuteTime": {
     "end_time": "2024-03-28T13:45:32.618981Z",
     "start_time": "2024-03-28T13:45:32.600457Z"
    }
   },
   "id": "fec98f216b185755",
   "execution_count": 32
  },
  {
   "cell_type": "code",
   "outputs": [],
   "source": [
    "GraphSparqlQAChain?"
   ],
   "metadata": {
    "collapsed": false,
    "ExecuteTime": {
     "end_time": "2024-03-28T13:46:57.802528Z",
     "start_time": "2024-03-28T13:46:57.795336Z"
    }
   },
   "id": "4955aad3587e63b5",
   "execution_count": 35
  },
  {
   "cell_type": "code",
   "outputs": [
    {
     "name": "stdout",
     "output_type": "stream",
     "text": [
      "\n",
      "\n",
      "\u001B[1m> Entering new GraphSparqlQAChain chain...\u001B[0m\n",
      "Identified intent:\n",
      "\u001B[32;1m\u001B[1;3mSELECT\u001B[0m\n",
      "Generated SPARQL:\n",
      "\u001B[32;1m\u001B[1;3m```\n",
      "PREFIX foaf: <http://xmlns.com/foaf/0.1/>\n",
      "SELECT ?person ?homepage\n",
      "WHERE {\n",
      "    ?person foaf:family_name \"Berners-Lee\" .\n",
      "    ?person foaf:workplaceHomepage ?homepage .\n",
      "}\n",
      "```\u001B[0m\n"
     ]
    },
    {
     "ename": "ParseException",
     "evalue": "Expected {SelectQuery | ConstructQuery | DescribeQuery | AskQuery}, found '`'  (at char 0), (line:1, col:1)",
     "output_type": "error",
     "traceback": [
      "\u001B[0;31m---------------------------------------------------------------------------\u001B[0m",
      "\u001B[0;31mParseException\u001B[0m                            Traceback (most recent call last)",
      "Cell \u001B[0;32mIn[33], line 1\u001B[0m\n\u001B[0;32m----> 1\u001B[0m result \u001B[38;5;241m=\u001B[39m \u001B[43mchain\u001B[49m\u001B[38;5;241;43m.\u001B[39;49m\u001B[43minvoke\u001B[49m\u001B[43m(\u001B[49m\u001B[38;5;124;43m\"\"\"\u001B[39;49m\n\u001B[1;32m      2\u001B[0m \u001B[38;5;124;43m    What is Tim Berners-Lee work homepage?\u001B[39;49m\n\u001B[1;32m      3\u001B[0m \u001B[38;5;124;43m    \u001B[39;49m\n\u001B[1;32m      4\u001B[0m \u001B[38;5;124;43m    When querying use only the family_name property from the graph.\u001B[39;49m\n\u001B[1;32m      5\u001B[0m \u001B[38;5;124;43m    Return both the person and the homepage URL.\u001B[39;49m\n\u001B[1;32m      6\u001B[0m \u001B[38;5;124;43m    Make sure that the created SPARQL query is UTF-8 compliant.\u001B[39;49m\n\u001B[1;32m      7\u001B[0m \u001B[38;5;124;43m\"\"\"\u001B[39;49m\u001B[43m)\u001B[49m\n\u001B[1;32m      9\u001B[0m \u001B[38;5;28mprint\u001B[39m(\u001B[38;5;124mf\u001B[39m\u001B[38;5;124m\"\u001B[39m\u001B[38;5;124mSPARQL query: \u001B[39m\u001B[38;5;132;01m{\u001B[39;00mresult[\u001B[38;5;124m'\u001B[39m\u001B[38;5;124msparql_query\u001B[39m\u001B[38;5;124m'\u001B[39m]\u001B[38;5;132;01m}\u001B[39;00m\u001B[38;5;124m\"\u001B[39m)\n\u001B[1;32m     10\u001B[0m \u001B[38;5;66;03m# print(f\"Final answer: {result['result']}\")\u001B[39;00m\n",
      "File \u001B[0;32m~/opt/mambaforge/envs/soilwise/lib/python3.12/site-packages/langchain/chains/base.py:163\u001B[0m, in \u001B[0;36mChain.invoke\u001B[0;34m(self, input, config, **kwargs)\u001B[0m\n\u001B[1;32m    161\u001B[0m \u001B[38;5;28;01mexcept\u001B[39;00m \u001B[38;5;167;01mBaseException\u001B[39;00m \u001B[38;5;28;01mas\u001B[39;00m e:\n\u001B[1;32m    162\u001B[0m     run_manager\u001B[38;5;241m.\u001B[39mon_chain_error(e)\n\u001B[0;32m--> 163\u001B[0m     \u001B[38;5;28;01mraise\u001B[39;00m e\n\u001B[1;32m    164\u001B[0m run_manager\u001B[38;5;241m.\u001B[39mon_chain_end(outputs)\n\u001B[1;32m    166\u001B[0m \u001B[38;5;28;01mif\u001B[39;00m include_run_info:\n",
      "File \u001B[0;32m~/opt/mambaforge/envs/soilwise/lib/python3.12/site-packages/langchain/chains/base.py:153\u001B[0m, in \u001B[0;36mChain.invoke\u001B[0;34m(self, input, config, **kwargs)\u001B[0m\n\u001B[1;32m    150\u001B[0m \u001B[38;5;28;01mtry\u001B[39;00m:\n\u001B[1;32m    151\u001B[0m     \u001B[38;5;28mself\u001B[39m\u001B[38;5;241m.\u001B[39m_validate_inputs(inputs)\n\u001B[1;32m    152\u001B[0m     outputs \u001B[38;5;241m=\u001B[39m (\n\u001B[0;32m--> 153\u001B[0m         \u001B[38;5;28;43mself\u001B[39;49m\u001B[38;5;241;43m.\u001B[39;49m\u001B[43m_call\u001B[49m\u001B[43m(\u001B[49m\u001B[43minputs\u001B[49m\u001B[43m,\u001B[49m\u001B[43m \u001B[49m\u001B[43mrun_manager\u001B[49m\u001B[38;5;241;43m=\u001B[39;49m\u001B[43mrun_manager\u001B[49m\u001B[43m)\u001B[49m\n\u001B[1;32m    154\u001B[0m         \u001B[38;5;28;01mif\u001B[39;00m new_arg_supported\n\u001B[1;32m    155\u001B[0m         \u001B[38;5;28;01melse\u001B[39;00m \u001B[38;5;28mself\u001B[39m\u001B[38;5;241m.\u001B[39m_call(inputs)\n\u001B[1;32m    156\u001B[0m     )\n\u001B[1;32m    158\u001B[0m     final_outputs: Dict[\u001B[38;5;28mstr\u001B[39m, Any] \u001B[38;5;241m=\u001B[39m \u001B[38;5;28mself\u001B[39m\u001B[38;5;241m.\u001B[39mprep_outputs(\n\u001B[1;32m    159\u001B[0m         inputs, outputs, return_only_outputs\n\u001B[1;32m    160\u001B[0m     )\n\u001B[1;32m    161\u001B[0m \u001B[38;5;28;01mexcept\u001B[39;00m \u001B[38;5;167;01mBaseException\u001B[39;00m \u001B[38;5;28;01mas\u001B[39;00m e:\n",
      "File \u001B[0;32m~/opt/mambaforge/envs/soilwise/lib/python3.12/site-packages/langchain/chains/graph_qa/sparql.py:132\u001B[0m, in \u001B[0;36mGraphSparqlQAChain._call\u001B[0;34m(self, inputs, run_manager)\u001B[0m\n\u001B[1;32m    127\u001B[0m _run_manager\u001B[38;5;241m.\u001B[39mon_text(\n\u001B[1;32m    128\u001B[0m     generated_sparql, color\u001B[38;5;241m=\u001B[39m\u001B[38;5;124m\"\u001B[39m\u001B[38;5;124mgreen\u001B[39m\u001B[38;5;124m\"\u001B[39m, end\u001B[38;5;241m=\u001B[39m\u001B[38;5;124m\"\u001B[39m\u001B[38;5;130;01m\\n\u001B[39;00m\u001B[38;5;124m\"\u001B[39m, verbose\u001B[38;5;241m=\u001B[39m\u001B[38;5;28mself\u001B[39m\u001B[38;5;241m.\u001B[39mverbose\n\u001B[1;32m    129\u001B[0m )\n\u001B[1;32m    131\u001B[0m \u001B[38;5;28;01mif\u001B[39;00m intent \u001B[38;5;241m==\u001B[39m \u001B[38;5;124m\"\u001B[39m\u001B[38;5;124mSELECT\u001B[39m\u001B[38;5;124m\"\u001B[39m:\n\u001B[0;32m--> 132\u001B[0m     context \u001B[38;5;241m=\u001B[39m \u001B[38;5;28;43mself\u001B[39;49m\u001B[38;5;241;43m.\u001B[39;49m\u001B[43mgraph\u001B[49m\u001B[38;5;241;43m.\u001B[39;49m\u001B[43mquery\u001B[49m\u001B[43m(\u001B[49m\u001B[43mgenerated_sparql\u001B[49m\u001B[43m)\u001B[49m\n\u001B[1;32m    134\u001B[0m     _run_manager\u001B[38;5;241m.\u001B[39mon_text(\u001B[38;5;124m\"\u001B[39m\u001B[38;5;124mFull Context:\u001B[39m\u001B[38;5;124m\"\u001B[39m, end\u001B[38;5;241m=\u001B[39m\u001B[38;5;124m\"\u001B[39m\u001B[38;5;130;01m\\n\u001B[39;00m\u001B[38;5;124m\"\u001B[39m, verbose\u001B[38;5;241m=\u001B[39m\u001B[38;5;28mself\u001B[39m\u001B[38;5;241m.\u001B[39mverbose)\n\u001B[1;32m    135\u001B[0m     _run_manager\u001B[38;5;241m.\u001B[39mon_text(\n\u001B[1;32m    136\u001B[0m         \u001B[38;5;28mstr\u001B[39m(context), color\u001B[38;5;241m=\u001B[39m\u001B[38;5;124m\"\u001B[39m\u001B[38;5;124mgreen\u001B[39m\u001B[38;5;124m\"\u001B[39m, end\u001B[38;5;241m=\u001B[39m\u001B[38;5;124m\"\u001B[39m\u001B[38;5;130;01m\\n\u001B[39;00m\u001B[38;5;124m\"\u001B[39m, verbose\u001B[38;5;241m=\u001B[39m\u001B[38;5;28mself\u001B[39m\u001B[38;5;241m.\u001B[39mverbose\n\u001B[1;32m    137\u001B[0m     )\n",
      "File \u001B[0;32m~/opt/mambaforge/envs/soilwise/lib/python3.12/site-packages/langchain_community/graphs/rdf_graph.py:213\u001B[0m, in \u001B[0;36mRdfGraph.query\u001B[0;34m(self, query)\u001B[0m\n\u001B[1;32m    210\u001B[0m \u001B[38;5;28;01mfrom\u001B[39;00m \u001B[38;5;21;01mrdflib\u001B[39;00m\u001B[38;5;21;01m.\u001B[39;00m\u001B[38;5;21;01mquery\u001B[39;00m \u001B[38;5;28;01mimport\u001B[39;00m ResultRow\n\u001B[1;32m    212\u001B[0m \u001B[38;5;28;01mtry\u001B[39;00m:\n\u001B[0;32m--> 213\u001B[0m     res \u001B[38;5;241m=\u001B[39m \u001B[38;5;28;43mself\u001B[39;49m\u001B[38;5;241;43m.\u001B[39;49m\u001B[43mgraph\u001B[49m\u001B[38;5;241;43m.\u001B[39;49m\u001B[43mquery\u001B[49m\u001B[43m(\u001B[49m\u001B[43mquery\u001B[49m\u001B[43m)\u001B[49m\n\u001B[1;32m    214\u001B[0m \u001B[38;5;28;01mexcept\u001B[39;00m ParserError \u001B[38;5;28;01mas\u001B[39;00m e:\n\u001B[1;32m    215\u001B[0m     \u001B[38;5;28;01mraise\u001B[39;00m \u001B[38;5;167;01mValueError\u001B[39;00m(\u001B[38;5;124m\"\u001B[39m\u001B[38;5;124mGenerated SPARQL statement is invalid\u001B[39m\u001B[38;5;130;01m\\n\u001B[39;00m\u001B[38;5;124m\"\u001B[39m \u001B[38;5;124mf\u001B[39m\u001B[38;5;124m\"\u001B[39m\u001B[38;5;132;01m{\u001B[39;00me\u001B[38;5;132;01m}\u001B[39;00m\u001B[38;5;124m\"\u001B[39m)\n",
      "File \u001B[0;32m~/opt/mambaforge/envs/soilwise/lib/python3.12/site-packages/rdflib/graph.py:1565\u001B[0m, in \u001B[0;36mGraph.query\u001B[0;34m(self, query_object, processor, result, initNs, initBindings, use_store_provided, **kwargs)\u001B[0m\n\u001B[1;32m   1562\u001B[0m     processor \u001B[38;5;241m=\u001B[39m plugin\u001B[38;5;241m.\u001B[39mget(processor, query\u001B[38;5;241m.\u001B[39mProcessor)(\u001B[38;5;28mself\u001B[39m)\n\u001B[1;32m   1564\u001B[0m \u001B[38;5;66;03m# type error: Argument 1 to \"Result\" has incompatible type \"Mapping[str, Any]\"; expected \"str\"\u001B[39;00m\n\u001B[0;32m-> 1565\u001B[0m \u001B[38;5;28;01mreturn\u001B[39;00m result(\u001B[43mprocessor\u001B[49m\u001B[38;5;241;43m.\u001B[39;49m\u001B[43mquery\u001B[49m\u001B[43m(\u001B[49m\u001B[43mquery_object\u001B[49m\u001B[43m,\u001B[49m\u001B[43m \u001B[49m\u001B[43minitBindings\u001B[49m\u001B[43m,\u001B[49m\u001B[43m \u001B[49m\u001B[43minitNs\u001B[49m\u001B[43m,\u001B[49m\u001B[43m \u001B[49m\u001B[38;5;241;43m*\u001B[39;49m\u001B[38;5;241;43m*\u001B[39;49m\u001B[43mkwargs\u001B[49m\u001B[43m)\u001B[49m)\n",
      "File \u001B[0;32m~/opt/mambaforge/envs/soilwise/lib/python3.12/site-packages/rdflib/plugins/sparql/processor.py:144\u001B[0m, in \u001B[0;36mSPARQLProcessor.query\u001B[0;34m(self, strOrQuery, initBindings, initNs, base, DEBUG)\u001B[0m\n\u001B[1;32m    124\u001B[0m \u001B[38;5;250m\u001B[39m\u001B[38;5;124;03m\"\"\"\u001B[39;00m\n\u001B[1;32m    125\u001B[0m \u001B[38;5;124;03mEvaluate a query with the given initial bindings, and initial\u001B[39;00m\n\u001B[1;32m    126\u001B[0m \u001B[38;5;124;03mnamespaces. The given base is used to resolve relative URIs in\u001B[39;00m\n\u001B[0;32m   (...)\u001B[0m\n\u001B[1;32m    140\u001B[0m \u001B[38;5;124;03m   documentation.\u001B[39;00m\n\u001B[1;32m    141\u001B[0m \u001B[38;5;124;03m\"\"\"\u001B[39;00m\n\u001B[1;32m    143\u001B[0m \u001B[38;5;28;01mif\u001B[39;00m \u001B[38;5;28misinstance\u001B[39m(strOrQuery, \u001B[38;5;28mstr\u001B[39m):\n\u001B[0;32m--> 144\u001B[0m     strOrQuery \u001B[38;5;241m=\u001B[39m translateQuery(\u001B[43mparseQuery\u001B[49m\u001B[43m(\u001B[49m\u001B[43mstrOrQuery\u001B[49m\u001B[43m)\u001B[49m, base, initNs)\n\u001B[1;32m    146\u001B[0m \u001B[38;5;28;01mreturn\u001B[39;00m evalQuery(\u001B[38;5;28mself\u001B[39m\u001B[38;5;241m.\u001B[39mgraph, strOrQuery, initBindings, base)\n",
      "File \u001B[0;32m~/opt/mambaforge/envs/soilwise/lib/python3.12/site-packages/rdflib/plugins/sparql/parser.py:1542\u001B[0m, in \u001B[0;36mparseQuery\u001B[0;34m(q)\u001B[0m\n\u001B[1;32m   1539\u001B[0m     q \u001B[38;5;241m=\u001B[39m q\u001B[38;5;241m.\u001B[39mdecode(\u001B[38;5;124m\"\u001B[39m\u001B[38;5;124mutf-8\u001B[39m\u001B[38;5;124m\"\u001B[39m)\n\u001B[1;32m   1541\u001B[0m q \u001B[38;5;241m=\u001B[39m expandUnicodeEscapes(q)\n\u001B[0;32m-> 1542\u001B[0m \u001B[38;5;28;01mreturn\u001B[39;00m \u001B[43mQuery\u001B[49m\u001B[38;5;241;43m.\u001B[39;49m\u001B[43mparseString\u001B[49m\u001B[43m(\u001B[49m\u001B[43mq\u001B[49m\u001B[43m,\u001B[49m\u001B[43m \u001B[49m\u001B[43mparseAll\u001B[49m\u001B[38;5;241;43m=\u001B[39;49m\u001B[38;5;28;43;01mTrue\u001B[39;49;00m\u001B[43m)\u001B[49m\n",
      "File \u001B[0;32m~/opt/mambaforge/envs/soilwise/lib/python3.12/site-packages/pyparsing/util.py:256\u001B[0m, in \u001B[0;36mreplaced_by_pep8.<locals>._inner\u001B[0;34m(self, *args, **kwargs)\u001B[0m\n\u001B[1;32m    251\u001B[0m \u001B[38;5;129m@wraps\u001B[39m(fn)\n\u001B[1;32m    252\u001B[0m \u001B[38;5;28;01mdef\u001B[39;00m \u001B[38;5;21m_inner\u001B[39m(\u001B[38;5;28mself\u001B[39m, \u001B[38;5;241m*\u001B[39margs, \u001B[38;5;241m*\u001B[39m\u001B[38;5;241m*\u001B[39mkwargs):\n\u001B[1;32m    253\u001B[0m     \u001B[38;5;66;03m# warnings.warn(\u001B[39;00m\n\u001B[1;32m    254\u001B[0m     \u001B[38;5;66;03m#     f\"Deprecated - use {fn.__name__}\", DeprecationWarning, stacklevel=2\u001B[39;00m\n\u001B[1;32m    255\u001B[0m     \u001B[38;5;66;03m# )\u001B[39;00m\n\u001B[0;32m--> 256\u001B[0m     \u001B[38;5;28;01mreturn\u001B[39;00m \u001B[43mfn\u001B[49m\u001B[43m(\u001B[49m\u001B[38;5;28;43mself\u001B[39;49m\u001B[43m,\u001B[49m\u001B[43m \u001B[49m\u001B[38;5;241;43m*\u001B[39;49m\u001B[43margs\u001B[49m\u001B[43m,\u001B[49m\u001B[43m \u001B[49m\u001B[38;5;241;43m*\u001B[39;49m\u001B[38;5;241;43m*\u001B[39;49m\u001B[43mkwargs\u001B[49m\u001B[43m)\u001B[49m\n",
      "File \u001B[0;32m~/opt/mambaforge/envs/soilwise/lib/python3.12/site-packages/pyparsing/core.py:1200\u001B[0m, in \u001B[0;36mParserElement.parse_string\u001B[0;34m(self, instring, parse_all, parseAll)\u001B[0m\n\u001B[1;32m   1197\u001B[0m         \u001B[38;5;28;01mraise\u001B[39;00m\n\u001B[1;32m   1198\u001B[0m     \u001B[38;5;28;01melse\u001B[39;00m:\n\u001B[1;32m   1199\u001B[0m         \u001B[38;5;66;03m# catch and re-raise exception from here, clearing out pyparsing internal stack trace\u001B[39;00m\n\u001B[0;32m-> 1200\u001B[0m         \u001B[38;5;28;01mraise\u001B[39;00m exc\u001B[38;5;241m.\u001B[39mwith_traceback(\u001B[38;5;28;01mNone\u001B[39;00m)\n\u001B[1;32m   1201\u001B[0m \u001B[38;5;28;01melse\u001B[39;00m:\n\u001B[1;32m   1202\u001B[0m     \u001B[38;5;28;01mreturn\u001B[39;00m tokens\n",
      "\u001B[0;31mParseException\u001B[0m: Expected {SelectQuery | ConstructQuery | DescribeQuery | AskQuery}, found '`'  (at char 0), (line:1, col:1)"
     ]
    }
   ],
   "source": [
    "result = chain.invoke(\"\"\"\n",
    "    What is Tim Berners-Lee work homepage?\n",
    "    \n",
    "    When querying use only the family_name property from the graph.\n",
    "    Return both the person and the homepage URL.\n",
    "    Make sure that the created SPARQL query is UTF-8 compliant.\n",
    "\"\"\")\n",
    "\n",
    "print(f\"SPARQL query: {result['sparql_query']}\")\n",
    "# print(f\"Final answer: {result['result']}\")"
   ],
   "metadata": {
    "collapsed": false,
    "ExecuteTime": {
     "end_time": "2024-03-28T13:45:41.084402Z",
     "start_time": "2024-03-28T13:45:37.344791Z"
    }
   },
   "id": "a002620795d4bd28",
   "execution_count": 33
  },
  {
   "cell_type": "code",
   "outputs": [
    {
     "data": {
      "text/plain": "[(rdflib.term.URIRef('https://www.w3.org/People/Berners-Lee/card#i'),\n  rdflib.term.URIRef('https://www.w3.org/'))]"
     },
     "execution_count": 34,
     "metadata": {},
     "output_type": "execute_result"
    }
   ],
   "source": [
    "query = '''\n",
    "PREFIX foaf: <http://xmlns.com/foaf/0.1/>\n",
    "SELECT ?person ?homepage\n",
    "WHERE {\n",
    "    ?person foaf:family_name \"Berners-Lee\" .\n",
    "    ?person foaf:workplaceHomepage ?homepage .\n",
    "}\n",
    "'''\n",
    "\n",
    "g.query(query)"
   ],
   "metadata": {
    "collapsed": false,
    "ExecuteTime": {
     "end_time": "2024-03-28T13:45:53.308269Z",
     "start_time": "2024-03-28T13:45:53.301107Z"
    }
   },
   "id": "d71ffd722096c69e",
   "execution_count": 34
  },
  {
   "cell_type": "code",
   "outputs": [],
   "source": [],
   "metadata": {
    "collapsed": false
   },
   "id": "b11a33a9e1db7e7b"
  }
 ],
 "metadata": {
  "kernelspec": {
   "name": "soilwise",
   "language": "python",
   "display_name": "soilwise"
  },
  "language_info": {
   "codemirror_mode": {
    "name": "ipython",
    "version": 2
   },
   "file_extension": ".py",
   "mimetype": "text/x-python",
   "name": "python",
   "nbconvert_exporter": "python",
   "pygments_lexer": "ipython2",
   "version": "2.7.6"
  }
 },
 "nbformat": 4,
 "nbformat_minor": 5
}
